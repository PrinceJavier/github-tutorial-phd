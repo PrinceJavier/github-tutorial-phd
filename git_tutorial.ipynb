{
 "cells": [
  {
   "cell_type": "markdown",
   "metadata": {},
   "source": [
    "# Git Sample"
   ]
  },
  {
   "cell_type": "markdown",
   "metadata": {},
   "source": [
    "### Set up repo on Github\n",
    "* Go to Github, and create a new repo\n",
    "* The default branch will be `main`"
   ]
  },
  {
   "cell_type": "markdown",
   "metadata": {},
   "source": [
    "### Set up Git\n",
    "\n",
    "* Go to terminal\n",
    "* type `git init` to initialize repo"
   ]
  },
  {
   "cell_type": "markdown",
   "metadata": {},
   "source": [
    "### To save credentials\n",
    "`git config --global credential.helper cache`\n",
    "\n",
    "* You will be asked your Github creds the first time your push/pull to a remote repo\n",
    "* After this, the creds should be saved"
   ]
  },
  {
   "cell_type": "markdown",
   "metadata": {},
   "source": [
    "### How to connect to a Github repo\n",
    "\n",
    "* `git remote add <remote name> <url>`\n",
    "* `git remote add origin https:...repo.git`\n"
   ]
  },
  {
   "cell_type": "markdown",
   "metadata": {},
   "source": [
    "### How to exclude files from being tracked by Git\n",
    "\n",
    "* Create a text file named .gitignore\n",
    "\n",
    "`nano .gitignore`\n",
    "\n",
    "* Type folder names and/or filenames you want excluded\n",
    "    * data.csv\n",
    "    * *.csv\n",
    "    * folder/\n",
    "    * folder/*.csv"
   ]
  },
  {
   "cell_type": "markdown",
   "metadata": {},
   "source": [
    "### How to track files\n",
    "`git add <file name>`\n",
    "\n",
    "### To add everything except the excluded files\n",
    "`git add .`"
   ]
  },
  {
   "cell_type": "markdown",
   "metadata": {},
   "source": [
    "### How to commit files\n",
    "\n",
    "`git commit -m <commit message> file_to_commit.txt`"
   ]
  },
  {
   "cell_type": "markdown",
   "metadata": {},
   "source": [
    "### How to see previous commits?\n",
    "\n",
    "`git log`\n",
    "\n",
    "* You will see the previous commits with the corresponding hashes\n",
    "* There is a tag which version you are in called \"HEAD\""
   ]
  },
  {
   "cell_type": "markdown",
   "metadata": {},
   "source": [
    "### How to revert to a commit version\n",
    "\n",
    "`git reset --hard <commit hash>`"
   ]
  },
  {
   "cell_type": "markdown",
   "metadata": {},
   "source": [
    "### How to pull from a remote repo\n",
    "\n",
    "`git pull origin <branch name>`\n",
    "\n",
    "`<branch name>` is `main` by default\n",
    "\n",
    "`git pull origin main`"
   ]
  },
  {
   "cell_type": "markdown",
   "metadata": {},
   "source": [
    "### How to push commits to a remote repo\n",
    "\n",
    "`git push -u origin <branch name>`\n",
    "\n",
    "`<branch name>` is the name of the branch in your local/Jojie. In Jojie, it's called `master` by default\n",
    "\n",
    "`git push -u origin master`"
   ]
  },
  {
   "cell_type": "markdown",
   "metadata": {},
   "source": [
    "### How to move to a different branch\n",
    "\n",
    "`git checkout <branch name>`\n",
    "\n",
    "This is typically not needed unless your project becomes a bit more complex and/or you have many collaborators."
   ]
  },
  {
   "cell_type": "code",
   "execution_count": null,
   "metadata": {},
   "outputs": [],
   "source": []
  }
 ],
 "metadata": {
  "kernelspec": {
   "display_name": "Python 3",
   "language": "python",
   "name": "python3"
  },
  "language_info": {
   "codemirror_mode": {
    "name": "ipython",
    "version": 3
   },
   "file_extension": ".py",
   "mimetype": "text/x-python",
   "name": "python",
   "nbconvert_exporter": "python",
   "pygments_lexer": "ipython3",
   "version": "3.8.6"
  }
 },
 "nbformat": 4,
 "nbformat_minor": 4
}
