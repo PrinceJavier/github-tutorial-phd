{
 "cells": [
  {
   "cell_type": "markdown",
   "metadata": {},
   "source": [
    "# Git Sample"
   ]
  },
  {
   "cell_type": "markdown",
   "metadata": {},
   "source": [
    "### Set up repo on Github\n",
    "* Go to Github, and create a new repo"
   ]
  },
  {
   "cell_type": "markdown",
   "metadata": {},
   "source": [
    "### Set up Git\n",
    "\n",
    "* Go to terminal\n",
    "* type `git init` to initialize repo"
   ]
  },
  {
   "cell_type": "markdown",
   "metadata": {},
   "source": [
    "### To save credentials\n",
    "`git config --global credential.helper cache`"
   ]
  },
  {
   "cell_type": "markdown",
   "metadata": {},
   "source": [
    "### How to connect to a Github repo\n",
    "\n",
    "`git remote add <remote name> <url>`"
   ]
  },
  {
   "cell_type": "markdown",
   "metadata": {},
   "source": [
    "### How to exclude files from being tracked by Git\n",
    "\n",
    "* Create a text file named .gitignore\n",
    "\n",
    "`nano .gitignore`\n",
    "\n",
    "* Type folder names and/or filenames you want excluded\n",
    "    * data.csv\n",
    "    * *.csv\n",
    "    * folder/\n",
    "    * folder/*.csv"
   ]
  },
  {
   "cell_type": "markdown",
   "metadata": {},
   "source": [
    "### How to track files\n",
    "`git add <file name>`\n",
    "\n",
    "### To add everything except the excluded files\n",
    "`git add .`"
   ]
  },
  {
   "cell_type": "markdown",
   "metadata": {},
   "source": [
    "### How to commit files\n",
    "\n",
    "`git commit -m <commit message> file_to_commit.txt`"
   ]
  },
  {
   "cell_type": "code",
   "execution_count": null,
   "metadata": {},
   "outputs": [],
   "source": []
  }
 ],
 "metadata": {
  "kernelspec": {
   "display_name": "Python 3",
   "language": "python",
   "name": "python3"
  },
  "language_info": {
   "codemirror_mode": {
    "name": "ipython",
    "version": 3
   },
   "file_extension": ".py",
   "mimetype": "text/x-python",
   "name": "python",
   "nbconvert_exporter": "python",
   "pygments_lexer": "ipython3",
   "version": "3.8.6"
  }
 },
 "nbformat": 4,
 "nbformat_minor": 4
}
